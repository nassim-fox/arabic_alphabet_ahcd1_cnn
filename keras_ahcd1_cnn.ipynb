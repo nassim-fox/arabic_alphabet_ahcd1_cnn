{
 "cells": [
  {
   "cell_type": "code",
   "execution_count": 2,
   "metadata": {},
   "outputs": [],
   "source": [
    "\n",
    "import tensorflow as tf\n",
    "\n",
    "import numpy as np\n",
    "import pandas as pd\n",
    "from matplotlib import pyplot as p\n",
    "\n"
   ]
  },
  {
   "cell_type": "code",
   "execution_count": 3,
   "metadata": {},
   "outputs": [],
   "source": [
    "\n",
    "x_train = pd.read_csv('../csvTrainImages 13440x1024.csv')\n",
    "y_train = pd.read_csv('../csvTrainLabel 13440x1.csv')\n",
    "x_test = pd.read_csv('../csvTestImages 3360x1024.csv')\n",
    "y_test = pd.read_csv('../csvTestLabel 3360x1.csv')\n"
   ]
  },
  {
   "cell_type": "code",
   "execution_count": 4,
   "metadata": {},
   "outputs": [],
   "source": [
    "x_train = np.asarray(x_train).reshape(x_train.shape[0],32,32,1)\n",
    "x_test = np.asarray(x_test).reshape(x_test.shape[0],32,32,1)\n"
   ]
  },
  {
   "cell_type": "code",
   "execution_count": 5,
   "metadata": {},
   "outputs": [],
   "source": [
    "\n",
    "x_train_scaled = (x_train - np.min(x_train)) / (np.max(x_train) - np.min(x_train)) \n",
    "x_test_scaled = (x_test - np.min(x_test)) / (np.max(x_test) - np.min(x_test)) \n"
   ]
  },
  {
   "cell_type": "code",
   "execution_count": 6,
   "metadata": {},
   "outputs": [],
   "source": [
    "y_train_labels = tf.keras.utils.to_categorical(y_train) \n",
    "y_test_labels = tf.keras.utils.to_categorical(y_test) \n"
   ]
  },
  {
   "cell_type": "code",
   "execution_count": 7,
   "metadata": {},
   "outputs": [
    {
     "name": "stdout",
     "output_type": "stream",
     "text": [
      "و\n"
     ]
    },
    {
     "data": {
      "image/png": "[encoded data removed]",
      "text/plain": [
       "<matplotlib.figure.Figure at 0x15d42e80>"
      ]
     },
     "metadata": {},
     "output_type": "display_data"
    }
   ],
   "source": [
    "\n",
    "im = np.asarray(x_train[0]).reshape(32,32).T\n",
    "#print(im.shape)\n",
    "\n",
    "i = \"\\xd9\\x88\"\n",
    "print(i.encode('latin-1').decode('utf8'))\n",
    "\n",
    "p.imshow(im,cmap='binary')\n",
    "p.show()"
   ]
  },
  {
   "cell_type": "code",
   "execution_count": 8,
   "metadata": {},
   "outputs": [],
   "source": [
    "alph = list('ابتةثجحخدذرزسشصضطظعغفقكلمنهوي')"
   ]
  },
  {
   "cell_type": "code",
   "execution_count": 9,
   "metadata": {},
   "outputs": [],
   "source": [
    "model = tf.keras.Sequential()\n",
    "\n",
    "model.add(tf.keras.layers.Conv2D(32,kernel_size=(5,5),input_shape=(32,32,1),padding='same',activation='relu'))\n",
    "model.add(tf.keras.layers.MaxPooling2D())\n",
    "model.add(tf.keras.layers.Conv2D(64,kernel_size=(5,5),padding='same',activation='relu'))\n",
    "model.add(tf.keras.layers.MaxPooling2D())\n",
    "model.add(tf.keras.layers.Flatten())\n",
    "model.add(tf.keras.layers.Dense(1024,activation='relu'))\n",
    "model.add(tf.keras.layers.Dense(29,activation='softmax'))"
   ]
  },
  {
   "cell_type": "code",
   "execution_count": 10,
   "metadata": {},
   "outputs": [],
   "source": [
    "model.compile(optimizer='adam',loss='categorical_crossentropy',metrics=['accuracy'])"
   ]
  },
  {
   "cell_type": "code",
   "execution_count": 11,
   "metadata": {},
   "outputs": [
    {
     "name": "stdout",
     "output_type": "stream",
     "text": [
      "Train on 13439 samples, validate on 3359 samples\n",
      "Epoch 1/10\n",
      "13439/13439 [==============================] - 91s 7ms/step - loss: 1.0328 - acc: 0.6758 - val_loss: 0.4147 - val_acc: 0.8773\n",
      "Epoch 2/10\n",
      "13439/13439 [==============================] - 86s 6ms/step - loss: 0.2798 - acc: 0.9058 - val_loss: 0.2757 - val_acc: 0.9146\n",
      "Epoch 3/10\n",
      "13439/13439 [==============================] - 86s 6ms/step - loss: 0.1504 - acc: 0.9507 - val_loss: 0.2053 - val_acc: 0.9375\n",
      "Epoch 4/10\n",
      "13439/13439 [==============================] - 86s 6ms/step - loss: 0.1004 - acc: 0.9670 - val_loss: 0.2250 - val_acc: 0.9336\n",
      "Epoch 5/10\n",
      "13439/13439 [==============================] - 92s 7ms/step - loss: 0.0583 - acc: 0.9816 - val_loss: 0.2343 - val_acc: 0.9369\n",
      "Epoch 6/10\n",
      "13439/13439 [==============================] - 95s 7ms/step - loss: 0.0499 - acc: 0.9855 - val_loss: 0.2292 - val_acc: 0.9372\n",
      "Epoch 7/10\n",
      "13439/13439 [==============================] - 101s 8ms/step - loss: 0.0425 - acc: 0.9867 - val_loss: 0.2835 - val_acc: 0.9315\n",
      "Epoch 8/10\n",
      "13439/13439 [==============================] - 93s 7ms/step - loss: 0.0391 - acc: 0.9865 - val_loss: 0.3126 - val_acc: 0.9259\n",
      "Epoch 9/10\n",
      "13439/13439 [==============================] - 90s 7ms/step - loss: 0.0347 - acc: 0.9883 - val_loss: 0.2453 - val_acc: 0.9422\n",
      "Epoch 10/10\n",
      "13439/13439 [==============================] - 93s 7ms/step - loss: 0.0278 - acc: 0.9925 - val_loss: 0.2351 - val_acc: 0.9440\n"
     ]
    },
    {
     "data": {
      "text/plain": [
       "<tensorflow.python.keras.callbacks.History at 0x15d634e0>"
      ]
     },
     "execution_count": 11,
     "metadata": {},
     "output_type": "execute_result"
    }
   ],
   "source": [
    "model.fit(x_train_scaled,y_train_labels,epochs=10,validation_data=(x_test_scaled,y_test_labels))"
   ]
  },
  {
   "cell_type": "code",
   "execution_count": 12,
   "metadata": {},
   "outputs": [],
   "source": [
    "prediction = model.predict(x_test_scaled)"
   ]
  },
  {
   "cell_type": "code",
   "execution_count": 13,
   "metadata": {},
   "outputs": [
    {
     "name": "stdout",
     "output_type": "stream",
     "text": [
      "predicted 0 :  ا\n",
      "predicted 1 :  ب\n",
      "predicted 2 :  ب\n",
      "predicted 3 :  ت\n",
      "predicted 4 :  ت\n",
      "predicted 5 :  ة\n",
      "predicted 6 :  ة\n",
      "predicted 7 :  ث\n",
      "predicted 8 :  ث\n",
      "predicted 9 :  ج\n"
     ]
    },
    {
     "data": {
      "image/png": "[encoded data removed]",
      "text/plain": [
       "<matplotlib.figure.Figure at 0x16acaf28>"
      ]
     },
     "metadata": {},
     "output_type": "display_data"
    }
   ],
   "source": [
    "ax = [0,0,0,0,0,0,0,0,0,0]\n",
    "f, ((ax[0] ,ax[1] , ax[2], ax[3], ax[4]),( ax[5],ax[6] ,ax[7], ax[8], ax[9])) = p.subplots(2,5)\n",
    "\n",
    "for i in range(10) : \n",
    "    ax[i].imshow(x_test[i].reshape(32,32).T,cmap='binary')\n",
    "    ax[i].set_title('{}'.format(i))\n",
    "    print(\"predicted {} :  \".format(i)+alph[np.argmax(prediction[i])-1])\n",
    "    \n"
   ]
  },
  {
   "cell_type": "code",
   "execution_count": 14,
   "metadata": {},
   "outputs": [],
   "source": [
    "\n",
    "model_json = model.to_json()\n",
    "\n",
    "with open(\"model.json\", \"w\") as json_file:\n",
    "    json_file.write(model_json)\n",
    "    \n",
    "\n",
    "model.save_weights(\"model.h5\")"
   ]
  },
  {
   "cell_type": "code",
   "execution_count": null,
   "metadata": {},
   "outputs": [],
   "source": []
  }
 ],
 "metadata": {
  "kernelspec": {
   "display_name": "Python 3",
   "language": "python",
   "name": "python3"
  },
  "language_info": {
   "codemirror_mode": {
    "name": "ipython",
    "version": 3
   },
   "file_extension": ".py",
   "mimetype": "text/x-python",
   "name": "python",
   "nbconvert_exporter": "python",
   "pygments_lexer": "ipython3",
   "version": "3.6.2"
  }
 },
 "nbformat": 4,
 "nbformat_minor": 2
}
